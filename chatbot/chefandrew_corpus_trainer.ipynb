{
 "cells": [
  {
   "cell_type": "code",
   "execution_count": 4,
   "metadata": {},
   "outputs": [
    {
     "name": "stdout",
     "output_type": "stream",
     "text": [
      "Collecting scikit-learn\n",
      "  Downloading scikit_learn-1.0.2-cp37-cp37m-win_amd64.whl (7.1 MB)\n",
      "     ---------------------------------------- 7.1/7.1 MB 41.5 MB/s eta 0:00:00\n",
      "Collecting joblib>=0.11\n",
      "  Using cached joblib-1.3.2-py3-none-any.whl (302 kB)\n",
      "Requirement already satisfied: numpy>=1.14.6 in c:\\users\\sanje\\anaconda3\\envs\\chatbot_37\\lib\\site-packages (from scikit-learn) (1.21.6)\n",
      "Collecting threadpoolctl>=2.0.0\n",
      "  Using cached threadpoolctl-3.1.0-py3-none-any.whl (14 kB)\n",
      "Requirement already satisfied: scipy>=1.1.0 in c:\\users\\sanje\\anaconda3\\envs\\chatbot_37\\lib\\site-packages (from scikit-learn) (1.7.3)\n",
      "Installing collected packages: threadpoolctl, joblib, scikit-learn\n",
      "Successfully installed joblib-1.3.2 scikit-learn-1.0.2 threadpoolctl-3.1.0\n"
     ]
    }
   ],
   "source": [
    "!pip3 install scikit-learn"
   ]
  },
  {
   "cell_type": "code",
   "execution_count": 21,
   "metadata": {},
   "outputs": [
    {
     "name": "stdout",
     "output_type": "stream",
     "text": [
      "Collecting openpyxl\n",
      "  Using cached openpyxl-3.1.2-py2.py3-none-any.whl (249 kB)\n",
      "Collecting et-xmlfile\n",
      "  Using cached et_xmlfile-1.1.0-py3-none-any.whl (4.7 kB)\n",
      "Installing collected packages: et-xmlfile, openpyxl\n",
      "Successfully installed et-xmlfile-1.1.0 openpyxl-3.1.2\n"
     ]
    }
   ],
   "source": [
    "!pip3 install openpyxl"
   ]
  },
  {
   "cell_type": "code",
   "execution_count": 6,
   "metadata": {},
   "outputs": [
    {
     "name": "stdout",
     "output_type": "stream",
     "text": [
      "Collecting nltk\n",
      "  Using cached nltk-3.8.1-py3-none-any.whl (1.5 MB)\n",
      "Requirement already satisfied: joblib in c:\\users\\sanje\\anaconda3\\envs\\chatbot_37\\lib\\site-packages (from nltk) (1.3.2)\n",
      "Requirement already satisfied: regex>=2021.8.3 in c:\\users\\sanje\\anaconda3\\envs\\chatbot_37\\lib\\site-packages (from nltk) (2023.10.3)\n",
      "Requirement already satisfied: tqdm in c:\\users\\sanje\\anaconda3\\envs\\chatbot_37\\lib\\site-packages (from nltk) (4.66.1)\n",
      "Requirement already satisfied: click in c:\\users\\sanje\\anaconda3\\envs\\chatbot_37\\lib\\site-packages (from nltk) (8.1.7)\n",
      "Requirement already satisfied: colorama in c:\\users\\sanje\\anaconda3\\envs\\chatbot_37\\lib\\site-packages (from click->nltk) (0.4.6)\n",
      "Requirement already satisfied: importlib-metadata in c:\\users\\sanje\\anaconda3\\envs\\chatbot_37\\lib\\site-packages (from click->nltk) (6.7.0)\n",
      "Requirement already satisfied: zipp>=0.5 in c:\\users\\sanje\\anaconda3\\envs\\chatbot_37\\lib\\site-packages (from importlib-metadata->click->nltk) (3.15.0)\n",
      "Requirement already satisfied: typing-extensions>=3.6.4 in c:\\users\\sanje\\anaconda3\\envs\\chatbot_37\\lib\\site-packages (from importlib-metadata->click->nltk) (4.3.0)\n",
      "Installing collected packages: nltk\n",
      "Successfully installed nltk-3.8.1\n"
     ]
    }
   ],
   "source": [
    "!pip3 install nltk"
   ]
  },
  {
   "cell_type": "code",
   "execution_count": 7,
   "metadata": {},
   "outputs": [],
   "source": [
    "# -*- coding: utf-8 -*-\n",
    "import chatterbot.corpus\n",
    "from chatterbot import comparisons\n",
    "from chatterbot import response_selection\n",
    "from chatterbot import ChatBot\n",
    "from chatterbot.comparisons import LevenshteinDistance\n",
    "from chatterbot.response_selection import get_first_response\n",
    "from chatterbot.trainers import ChatterBotCorpusTrainer\n",
    "from chatterbot.trainers import ListTrainer\n",
    "import pandas as pd\n",
    "import numpy as np\n",
    "import random\n",
    "import string\n",
    "import sklearn\n",
    "from sklearn.feature_extraction import text\n",
    "from sklearn.feature_extraction.text import TfidfVectorizer\n",
    "from sklearn.metrics.pairwise import cosine_similarity\n",
    "import glob\n",
    "import os\n",
    "import nltk\n",
    "import logging\n",
    "logging.basicConfig(level=logging.INFO)\n",
    "\n",
    "# first-time use only\n",
    "# nltk.download('punkt') \n",
    "\n",
    "# first-time use only\n",
    "# nltk.download('wordnet')"
   ]
  },
  {
   "cell_type": "code",
   "execution_count": 104,
   "metadata": {},
   "outputs": [],
   "source": [
    "def faq_chatbot_initialize(chatbot_name, threshold=0.9, excel_path='data\\testforkb.xlsx', worksheet_name='FAQ'):\n",
    "    covid_faq_chatbot = ChatBot(\n",
    "        chatbot_name,\n",
    "        logic_adapters=[\n",
    "            {\n",
    "                \"import_path\": \"chatterbot.logic.BestMatch\",\n",
    "                \"statement_comparison_function\": LevenshteinDistance,\n",
    "                \"response_selection_method\": get_first_response,\n",
    "                \"maximum_similarity_threshold\": threshold\n",
    "            }\n",
    "        ],\n",
    "        preprocessors=[\n",
    "            'chatterbot.preprocessors.clean_whitespace'\n",
    "        ],\n",
    "        read_only=True,\n",
    "    )\n",
    "    trainer = ListTrainer(covid_faq_chatbot)\n",
    "    #trainer.train(\"chatterbot.corpus.english\")\n",
    "    # read questions and answers\n",
    "    data = pd.read_excel(excel_path, sheet_name=worksheet_name, engine='openpyxl')\n",
    "    question = data.get('Queston')\n",
    "    answer = data.get('Long_Answer')\n",
    "\n",
    "    #for i in range(0, 3):\n",
    "    #    print('[Q]', question[i], '\\n[A]', answer[i], '\\n\\n')\n",
    "\n",
    "    # Iteratively adding the question and answer\n",
    "    train_list = []\n",
    "    for i in range(len(question)):\n",
    "        train_list.append(question[i])\n",
    "        train_list.append(answer[i])\n",
    "    # train the faq\n",
    "    trainer.train(train_list)\n",
    "    trainer.export_for_training('covid.yml')\n",
    "    return covid_faq_chatbot\n",
    "\n",
    "\n"
   ]
  },
  {
   "cell_type": "code",
   "execution_count": 105,
   "metadata": {},
   "outputs": [],
   "source": [
    "class NLP_Chatbot:\n",
    "    \n",
    "    def __init__(self, name, file_path):\n",
    "        self.name = name\n",
    "        self.file_path = file_path\n",
    "        self.sents = self.generate_sents()\n",
    "        self.TfidfVec, self.tfidf = self.generate_tfidf()\n",
    "\n",
    "    def generate_sents(self):\n",
    "        raw = []\n",
    "        for filename in glob.glob(os.path.join(self.file_path, '*.txt')):\n",
    "            with open(os.path.join(os.getcwd(), filename), 'r') as f: # open in readonly mode\n",
    "                # do your stuff\n",
    "                lines = f.readlines()\n",
    "            raw.extend(lines)\n",
    "        sents = [ nltk.sent_tokenize(r) for r in raw ] # converts each paragraph to a list of sentences \n",
    "        sents = [ s for sent in sents for s in sent  ] # flatten the list\n",
    "        return sents\n",
    "    \n",
    "    def generate_tfidf(self):\n",
    "\n",
    "        # prepare for lemmatization\n",
    "        WNL = nltk.stem.WordNetLemmatizer()\n",
    "        #for handling some known bugs while not using POS tag info.\n",
    "        exceptions = ['has', 'was', 'as', 'us', 'less']\n",
    "        def MyNormalize(text):\n",
    "            tokens=nltk.word_tokenize(text.lower())\n",
    "            tokens=[ t for t in tokens if t not in string.punctuation ]\n",
    "            toks = [WNL.lemmatize(t) if t not in exceptions else t for t in tokens  ]\n",
    "            return toks\n",
    "        # Prepare a preprocessing function that will do tokenization,\n",
    "        # case lowering, punctuation removal, and lemmatization\n",
    "        my_stop_words = text.ENGLISH_STOP_WORDS\n",
    "\n",
    "        # preprocess the sentences in data, remove stop words, and create a tf-idf vector\n",
    "        TfidfVec = TfidfVectorizer(tokenizer=MyNormalize, stop_words=my_stop_words)\n",
    "        tfidf = TfidfVec.fit_transform(self.sents)\n",
    "        return TfidfVec, tfidf\n",
    "    \n",
    "    # function to match input to the preprocessed sentences\n",
    "    def get_response(self, user_response):\n",
    "        robo_response=''\n",
    "        new = self.TfidfVec.transform([user_response])\n",
    "        vals = cosine_similarity(new[0], self.tfidf)\n",
    "        idx=vals.argsort()[0][-1]\n",
    "        flat = vals.flatten()\n",
    "        flat.sort()\n",
    "        req_tfidf = flat[-1]\n",
    "        if(req_tfidf==0):\n",
    "            robo_response=robo_response+\"I am sorry! I don't understand you.\"\n",
    "            return robo_response\n",
    "        else:\n",
    "            robo_response = robo_response+self.sents[idx]\n",
    "            return robo_response    \n",
    "    \n",
    "\n"
   ]
  },
  {
   "cell_type": "code",
   "execution_count": 106,
   "metadata": {},
   "outputs": [],
   "source": [
    "def nlp_chatbot_initialize(chatbot_name,file_path='data/'):\n",
    "    chatbot = NLP_Chatbot(chatbot_name, file_path)\n",
    "    return chatbot\n"
   ]
  },
  {
   "cell_type": "code",
   "execution_count": 113,
   "metadata": {},
   "outputs": [],
   "source": [
    "def get_answer(faq_chatbot, nlp_chatbot, question, threshold):  # let's get a response to our input\n",
    "    # try suggested corpora to find best fit. If first corpus < theshold, try another.\n",
    "    # avoid random responses confidence 0\n",
    "    response = faq_chatbot.get_response(question)\n",
    "    if  response.confidence < threshold:  # not a good answer, look elsewhere\n",
    "        #response = nlp_chatbot.get_response(question)\n",
    "        response = '123'\n",
    "    else:\n",
    "        response = response.serialize()['text']\n",
    "    return response\n",
    "#import logginglogging.basicConfig(level=logging.INFO)    # Enable info level logging\n"
   ]
  },
  {
   "cell_type": "code",
   "execution_count": 65,
   "metadata": {},
   "outputs": [],
   "source": [
    "data = pd.read_excel('C:\\\\Users\\\\sanje\\\\data\\\\testforkb.xlsx', sheet_name='FAQ', engine='openpyxl')"
   ]
  },
  {
   "cell_type": "code",
   "execution_count": 62,
   "metadata": {},
   "outputs": [],
   "source": [
    "data.to_csv('df_output.csv', encoding='utf-8')"
   ]
  },
  {
   "cell_type": "code",
   "execution_count": 68,
   "metadata": {},
   "outputs": [],
   "source": [
    "\n",
    "# Define a function to remove non-UTF characters\n",
    "def remove_non_utf(text):\n",
    "    return re.sub(r'[^\\x00-\\x7F]+', '', text)\n",
    "\n",
    "# Apply the function to the entire DataFrame\n",
    "df_cleaned = data.applymap(remove_non_utf)"
   ]
  },
  {
   "cell_type": "code",
   "execution_count": 67,
   "metadata": {},
   "outputs": [],
   "source": [
    "import re"
   ]
  },
  {
   "cell_type": "code",
   "execution_count": 69,
   "metadata": {},
   "outputs": [],
   "source": [
    "df_cleaned.to_csv('df_output2.csv', encoding='utf-8')"
   ]
  },
  {
   "cell_type": "code",
   "execution_count": 168,
   "metadata": {},
   "outputs": [
    {
     "name": "stdout",
     "output_type": "stream",
     "text": [
      "List Trainer: [####################] 100%\n"
     ]
    }
   ],
   "source": [
    "data_path = 'data/'\n",
    "excel_name =  'C:\\\\Users\\\\sanje\\\\data\\\\testforkb.xlsx'\n",
    "worksheet_name = 'FAQ'\n",
    "\n",
    "\n",
    "covid_faq_chatbot = faq_chatbot_initialize(\"Covid FAQ Chat Bot\", excel_path=excel_name, worksheet_name=worksheet_name)\n",
    "#covid_nlp_chatbot = nlp_chatbot_initialize(\"Covid NLP Chat Bot\", data_path)\n",
    "\n"
   ]
  },
  {
   "cell_type": "code",
   "execution_count": 150,
   "metadata": {},
   "outputs": [
    {
     "name": "stderr",
     "output_type": "stream",
     "text": [
      "INFO:chatterbot.chatterbot:Beginning search for close text match\n",
      "INFO:chatterbot.chatterbot:Processing search results\n",
      "INFO:chatterbot.chatterbot:Similar text found: Shellfish 0.62\n",
      "INFO:chatterbot.chatterbot:Using \"Shellfish\" as a close match to \"fish\" with a confidence of 0.62\n",
      "INFO:chatterbot.chatterbot:Selecting response from 1 optimal responses.\n",
      "INFO:chatterbot.response_selection:Selecting first response from list of 1 options.\n",
      "INFO:chatterbot.chatterbot:Response selected. Using \"Option 6\"\n",
      "INFO:chatterbot.chatterbot:BestMatch selected \"Option 6\" as a response with a confidence of 0.62\n"
     ]
    },
    {
     "name": "stdout",
     "output_type": "stream",
     "text": [
      "Option 6\n"
     ]
    }
   ],
   "source": [
    "threshold=0.3\n",
    "question = \"fish\"\n",
    "#question = \"what does Conversational AI refer to?\"\n",
    "\n",
    "print(get_answer(covid_faq_chatbot, covid_nlp_chatbot, question, threshold))"
   ]
  },
  {
   "cell_type": "code",
   "execution_count": 153,
   "metadata": {},
   "outputs": [],
   "source": [
    "#prepare some greeting words\n",
    "GREETING_INPUTS = (\"hello\", \"hi\", \"greetings\", \"sup\", \"what's up\",\"hey\",)\n",
    "GREETING_RESPONSES = [\"hi\", \"hey\", \"*nods*\", \"hi there\", \"hello\", \"I am glad! You are talking to me\"]\n",
    "def greeting(sentence): \n",
    "    for word in sentence.split():\n",
    "        if word.lower() in GREETING_INPUTS:\n",
    "            return random.choice(GREETING_RESPONSES)\n",
    "\n",
    "\n",
    "\n",
    "\n"
   ]
  },
  {
   "cell_type": "code",
   "execution_count": 156,
   "metadata": {},
   "outputs": [
    {
     "name": "stdout",
     "output_type": "stream",
     "text": [
      "CHATTY: My name is CHATTY. I will answer your queries about Chatbots. If you want to exit, type Bye!\n"
     ]
    },
    {
     "ename": "KeyboardInterrupt",
     "evalue": "Interrupted by user",
     "output_type": "error",
     "traceback": [
      "\u001b[1;31m---------------------------------------------------------------------------\u001b[0m",
      "\u001b[1;31mKeyboardInterrupt\u001b[0m                         Traceback (most recent call last)",
      "\u001b[1;32m~\\AppData\\Local\\Temp\\ipykernel_2732\\646079295.py\u001b[0m in \u001b[0;36m<module>\u001b[1;34m\u001b[0m\n\u001b[0;32m      3\u001b[0m \u001b[0mprint\u001b[0m\u001b[1;33m(\u001b[0m\u001b[1;34m\"CHATTY: My name is CHATTY. I will answer your queries about Chatbots. If you want to exit, type Bye!\"\u001b[0m\u001b[1;33m)\u001b[0m\u001b[1;33m\u001b[0m\u001b[1;33m\u001b[0m\u001b[0m\n\u001b[0;32m      4\u001b[0m \u001b[1;32mwhile\u001b[0m\u001b[1;33m(\u001b[0m\u001b[0mflag\u001b[0m\u001b[1;33m==\u001b[0m\u001b[1;32mTrue\u001b[0m\u001b[1;33m)\u001b[0m\u001b[1;33m:\u001b[0m\u001b[1;33m\u001b[0m\u001b[1;33m\u001b[0m\u001b[0m\n\u001b[1;32m----> 5\u001b[1;33m     \u001b[0muser_response\u001b[0m \u001b[1;33m=\u001b[0m \u001b[0minput\u001b[0m\u001b[1;33m(\u001b[0m\u001b[1;33m)\u001b[0m\u001b[1;33m\u001b[0m\u001b[1;33m\u001b[0m\u001b[0m\n\u001b[0m\u001b[0;32m      6\u001b[0m     \u001b[0muser_response\u001b[0m\u001b[1;33m=\u001b[0m\u001b[0muser_response\u001b[0m\u001b[1;33m.\u001b[0m\u001b[0mlower\u001b[0m\u001b[1;33m(\u001b[0m\u001b[1;33m)\u001b[0m\u001b[1;33m\u001b[0m\u001b[1;33m\u001b[0m\u001b[0m\n\u001b[0;32m      7\u001b[0m     \u001b[1;32mif\u001b[0m\u001b[1;33m(\u001b[0m\u001b[0muser_response\u001b[0m\u001b[1;33m!=\u001b[0m\u001b[1;34m'bye'\u001b[0m\u001b[1;33m)\u001b[0m\u001b[1;33m:\u001b[0m\u001b[1;33m\u001b[0m\u001b[1;33m\u001b[0m\u001b[0m\n",
      "\u001b[1;32m~\\anaconda3\\envs\\chatbot_37\\lib\\site-packages\\ipykernel\\kernelbase.py\u001b[0m in \u001b[0;36mraw_input\u001b[1;34m(self, prompt)\u001b[0m\n\u001b[0;32m   1179\u001b[0m             \u001b[0mself\u001b[0m\u001b[1;33m.\u001b[0m\u001b[0m_parent_ident\u001b[0m\u001b[1;33m[\u001b[0m\u001b[1;34m\"shell\"\u001b[0m\u001b[1;33m]\u001b[0m\u001b[1;33m,\u001b[0m\u001b[1;33m\u001b[0m\u001b[1;33m\u001b[0m\u001b[0m\n\u001b[0;32m   1180\u001b[0m             \u001b[0mself\u001b[0m\u001b[1;33m.\u001b[0m\u001b[0mget_parent\u001b[0m\u001b[1;33m(\u001b[0m\u001b[1;34m\"shell\"\u001b[0m\u001b[1;33m)\u001b[0m\u001b[1;33m,\u001b[0m\u001b[1;33m\u001b[0m\u001b[1;33m\u001b[0m\u001b[0m\n\u001b[1;32m-> 1181\u001b[1;33m             \u001b[0mpassword\u001b[0m\u001b[1;33m=\u001b[0m\u001b[1;32mFalse\u001b[0m\u001b[1;33m,\u001b[0m\u001b[1;33m\u001b[0m\u001b[1;33m\u001b[0m\u001b[0m\n\u001b[0m\u001b[0;32m   1182\u001b[0m         )\n\u001b[0;32m   1183\u001b[0m \u001b[1;33m\u001b[0m\u001b[0m\n",
      "\u001b[1;32m~\\anaconda3\\envs\\chatbot_37\\lib\\site-packages\\ipykernel\\kernelbase.py\u001b[0m in \u001b[0;36m_input_request\u001b[1;34m(self, prompt, ident, parent, password)\u001b[0m\n\u001b[0;32m   1217\u001b[0m             \u001b[1;32mexcept\u001b[0m \u001b[0mKeyboardInterrupt\u001b[0m\u001b[1;33m:\u001b[0m\u001b[1;33m\u001b[0m\u001b[1;33m\u001b[0m\u001b[0m\n\u001b[0;32m   1218\u001b[0m                 \u001b[1;31m# re-raise KeyboardInterrupt, to truncate traceback\u001b[0m\u001b[1;33m\u001b[0m\u001b[1;33m\u001b[0m\u001b[1;33m\u001b[0m\u001b[0m\n\u001b[1;32m-> 1219\u001b[1;33m                 \u001b[1;32mraise\u001b[0m \u001b[0mKeyboardInterrupt\u001b[0m\u001b[1;33m(\u001b[0m\u001b[1;34m\"Interrupted by user\"\u001b[0m\u001b[1;33m)\u001b[0m \u001b[1;32mfrom\u001b[0m \u001b[1;32mNone\u001b[0m\u001b[1;33m\u001b[0m\u001b[1;33m\u001b[0m\u001b[0m\n\u001b[0m\u001b[0;32m   1220\u001b[0m             \u001b[1;32mexcept\u001b[0m \u001b[0mException\u001b[0m\u001b[1;33m:\u001b[0m\u001b[1;33m\u001b[0m\u001b[1;33m\u001b[0m\u001b[0m\n\u001b[0;32m   1221\u001b[0m                 \u001b[0mself\u001b[0m\u001b[1;33m.\u001b[0m\u001b[0mlog\u001b[0m\u001b[1;33m.\u001b[0m\u001b[0mwarning\u001b[0m\u001b[1;33m(\u001b[0m\u001b[1;34m\"Invalid Message:\"\u001b[0m\u001b[1;33m,\u001b[0m \u001b[0mexc_info\u001b[0m\u001b[1;33m=\u001b[0m\u001b[1;32mTrue\u001b[0m\u001b[1;33m)\u001b[0m\u001b[1;33m\u001b[0m\u001b[1;33m\u001b[0m\u001b[0m\n",
      "\u001b[1;31mKeyboardInterrupt\u001b[0m: Interrupted by user"
     ]
    }
   ],
   "source": [
    "#starting the bot\n",
    "flag=True\n",
    "print(\"CHATTY: My name is CHATTY. I will answer your queries about Chatbots. If you want to exit, type Bye!\")\n",
    "while(flag==True):\n",
    "    user_response = input()\n",
    "    user_response=user_response.lower()\n",
    "    if(user_response!='bye'):\n",
    "        if(user_response=='thanks' or user_response=='thank you' ):\n",
    "            flag=False\n",
    "            print(\"CHATTY: You are welcome..\")\n",
    "        else:\n",
    "            if(greeting(user_response)!=None):\n",
    "                print(\"CHATTY: \"+greeting(user_response))\n",
    "            else:\n",
    "                print(\"CHATTY: \",end=\"\")\n",
    "                print(get_answer(covid_faq_chatbot, covid_nlp_chatbot, user_response, threshold))\n",
    "    else:\n",
    "        flag=False\n",
    "        print(\"CHATTY: Bye! take care...\")\n",
    "        \n",
    "# now chat with your bot...\n",
    "# you may experiment with different similarity functions"
   ]
  },
  {
   "cell_type": "code",
   "execution_count": 157,
   "metadata": {},
   "outputs": [
    {
     "name": "stdout",
     "output_type": "stream",
     "text": [
      "{'key': 'value', 'faq': <chatterbot.chatterbot.ChatBot object at 0x00000214D38B7848>, 'nlp': <__main__.NLP_Chatbot object at 0x0000021441864648>}\n"
     ]
    }
   ],
   "source": [
    "d = {'key':'value'}\n",
    "d['faq'] = covid_faq_chatbot\n",
    "d['nlp'] = covid_nlp_chatbot\n",
    "print(d)"
   ]
  },
  {
   "cell_type": "code",
   "execution_count": 158,
   "metadata": {},
   "outputs": [
    {
     "ename": "AttributeError",
     "evalue": "'ChatBot' object has no attribute 'trainer'",
     "output_type": "error",
     "traceback": [
      "\u001b[1;31m---------------------------------------------------------------------------\u001b[0m",
      "\u001b[1;31mAttributeError\u001b[0m                            Traceback (most recent call last)",
      "\u001b[1;32m~\\AppData\\Local\\Temp\\ipykernel_2732\\4037921349.py\u001b[0m in \u001b[0;36m<module>\u001b[1;34m\u001b[0m\n\u001b[1;32m----> 1\u001b[1;33m \u001b[0mcovid_faq_chatbot\u001b[0m\u001b[1;33m.\u001b[0m\u001b[0mtrainer\u001b[0m\u001b[1;33m.\u001b[0m\u001b[0mexport_for_training\u001b[0m\u001b[1;33m(\u001b[0m\u001b[1;34m'./covid.yml'\u001b[0m\u001b[1;33m)\u001b[0m\u001b[1;33m\u001b[0m\u001b[1;33m\u001b[0m\u001b[0m\n\u001b[0m",
      "\u001b[1;31mAttributeError\u001b[0m: 'ChatBot' object has no attribute 'trainer'"
     ]
    }
   ],
   "source": [
    "covid_faq_chatbot.trainer.export_for_training('./covid.yml')"
   ]
  },
  {
   "cell_type": "code",
   "execution_count": 159,
   "metadata": {},
   "outputs": [],
   "source": [
    "chatbot = ChatBot(\n",
    "    'Covid FAQ Chat Bot',\n",
    "\n",
    "    logic_adapters= [\n",
    "            {\n",
    "                \"import_path\": \"chatterbot.logic.BestMatch\",\n",
    "                \"statement_comparison_function\": \"chatterbot.comparisons.LevenshteinDistance\",\n",
    "                \"response_selection_method\": \"chatterbot.response_selection.get_first_response\",\n",
    "                \"maximum_similarity_threshold\": 0.9\n",
    "            }\n",
    "    ],\n",
    "    read_only=True,\n",
    "    trainer= 'chatterbot.trainers.ListTrainer',\n",
    "    training_data= [\n",
    "         'chatterbot.corpus.custom.covid'\n",
    "    ]\n",
    ")\n"
   ]
  },
  {
   "cell_type": "code",
   "execution_count": 165,
   "metadata": {},
   "outputs": [
    {
     "ename": "TypeError",
     "evalue": "load() missing 1 required positional argument: 'Loader'",
     "output_type": "error",
     "traceback": [
      "\u001b[1;31m---------------------------------------------------------------------------\u001b[0m",
      "\u001b[1;31mTypeError\u001b[0m                                 Traceback (most recent call last)",
      "\u001b[1;32m~\\AppData\\Local\\Temp\\ipykernel_2732\\1965958083.py\u001b[0m in \u001b[0;36m<module>\u001b[1;34m\u001b[0m\n\u001b[0;32m      2\u001b[0m \u001b[1;33m\u001b[0m\u001b[0m\n\u001b[0;32m      3\u001b[0m \u001b[1;31m# Train the chatbot based on the english corpus\u001b[0m\u001b[1;33m\u001b[0m\u001b[1;33m\u001b[0m\u001b[1;33m\u001b[0m\u001b[0m\n\u001b[1;32m----> 4\u001b[1;33m \u001b[0mtrainer\u001b[0m\u001b[1;33m.\u001b[0m\u001b[0mtrain\u001b[0m\u001b[1;33m(\u001b[0m\u001b[1;34m\"covid\"\u001b[0m\u001b[1;33m)\u001b[0m\u001b[1;33m\u001b[0m\u001b[1;33m\u001b[0m\u001b[0m\n\u001b[0m",
      "\u001b[1;32m~\\anaconda3\\envs\\chatbot_37\\lib\\site-packages\\chatterbot\\trainers.py\u001b[0m in \u001b[0;36mtrain\u001b[1;34m(self, *corpus_paths)\u001b[0m\n\u001b[0;32m    133\u001b[0m             \u001b[0mdata_file_paths\u001b[0m\u001b[1;33m.\u001b[0m\u001b[0mextend\u001b[0m\u001b[1;33m(\u001b[0m\u001b[0mlist_corpus_files\u001b[0m\u001b[1;33m(\u001b[0m\u001b[0mcorpus_path\u001b[0m\u001b[1;33m)\u001b[0m\u001b[1;33m)\u001b[0m\u001b[1;33m\u001b[0m\u001b[1;33m\u001b[0m\u001b[0m\n\u001b[0;32m    134\u001b[0m \u001b[1;33m\u001b[0m\u001b[0m\n\u001b[1;32m--> 135\u001b[1;33m         \u001b[1;32mfor\u001b[0m \u001b[0mcorpus\u001b[0m\u001b[1;33m,\u001b[0m \u001b[0mcategories\u001b[0m\u001b[1;33m,\u001b[0m \u001b[0mfile_path\u001b[0m \u001b[1;32min\u001b[0m \u001b[0mload_corpus\u001b[0m\u001b[1;33m(\u001b[0m\u001b[1;33m*\u001b[0m\u001b[0mdata_file_paths\u001b[0m\u001b[1;33m)\u001b[0m\u001b[1;33m:\u001b[0m\u001b[1;33m\u001b[0m\u001b[1;33m\u001b[0m\u001b[0m\n\u001b[0m\u001b[0;32m    136\u001b[0m \u001b[1;33m\u001b[0m\u001b[0m\n\u001b[0;32m    137\u001b[0m             \u001b[0mstatements_to_create\u001b[0m \u001b[1;33m=\u001b[0m \u001b[1;33m[\u001b[0m\u001b[1;33m]\u001b[0m\u001b[1;33m\u001b[0m\u001b[1;33m\u001b[0m\u001b[0m\n",
      "\u001b[1;32m~\\anaconda3\\envs\\chatbot_37\\lib\\site-packages\\chatterbot\\corpus.py\u001b[0m in \u001b[0;36mload_corpus\u001b[1;34m(*data_file_paths)\u001b[0m\n\u001b[0;32m     82\u001b[0m     \u001b[1;32mfor\u001b[0m \u001b[0mfile_path\u001b[0m \u001b[1;32min\u001b[0m \u001b[0mdata_file_paths\u001b[0m\u001b[1;33m:\u001b[0m\u001b[1;33m\u001b[0m\u001b[1;33m\u001b[0m\u001b[0m\n\u001b[0;32m     83\u001b[0m         \u001b[0mcorpus\u001b[0m \u001b[1;33m=\u001b[0m \u001b[1;33m[\u001b[0m\u001b[1;33m]\u001b[0m\u001b[1;33m\u001b[0m\u001b[1;33m\u001b[0m\u001b[0m\n\u001b[1;32m---> 84\u001b[1;33m         \u001b[0mcorpus_data\u001b[0m \u001b[1;33m=\u001b[0m \u001b[0mread_corpus\u001b[0m\u001b[1;33m(\u001b[0m\u001b[0mfile_path\u001b[0m\u001b[1;33m)\u001b[0m\u001b[1;33m\u001b[0m\u001b[1;33m\u001b[0m\u001b[0m\n\u001b[0m\u001b[0;32m     85\u001b[0m \u001b[1;33m\u001b[0m\u001b[0m\n\u001b[0;32m     86\u001b[0m         \u001b[0mconversations\u001b[0m \u001b[1;33m=\u001b[0m \u001b[0mcorpus_data\u001b[0m\u001b[1;33m.\u001b[0m\u001b[0mget\u001b[0m\u001b[1;33m(\u001b[0m\u001b[1;34m'conversations'\u001b[0m\u001b[1;33m,\u001b[0m \u001b[1;33m[\u001b[0m\u001b[1;33m]\u001b[0m\u001b[1;33m)\u001b[0m\u001b[1;33m\u001b[0m\u001b[1;33m\u001b[0m\u001b[0m\n",
      "\u001b[1;32m~\\anaconda3\\envs\\chatbot_37\\lib\\site-packages\\chatterbot\\corpus.py\u001b[0m in \u001b[0;36mread_corpus\u001b[1;34m(file_name)\u001b[0m\n\u001b[0;32m     57\u001b[0m \u001b[1;33m\u001b[0m\u001b[0m\n\u001b[0;32m     58\u001b[0m     \u001b[1;32mwith\u001b[0m \u001b[0mio\u001b[0m\u001b[1;33m.\u001b[0m\u001b[0mopen\u001b[0m\u001b[1;33m(\u001b[0m\u001b[0mfile_name\u001b[0m\u001b[1;33m,\u001b[0m \u001b[0mencoding\u001b[0m\u001b[1;33m=\u001b[0m\u001b[1;34m'utf-8'\u001b[0m\u001b[1;33m)\u001b[0m \u001b[1;32mas\u001b[0m \u001b[0mdata_file\u001b[0m\u001b[1;33m:\u001b[0m\u001b[1;33m\u001b[0m\u001b[1;33m\u001b[0m\u001b[0m\n\u001b[1;32m---> 59\u001b[1;33m         \u001b[1;32mreturn\u001b[0m \u001b[0myaml\u001b[0m\u001b[1;33m.\u001b[0m\u001b[0mload\u001b[0m\u001b[1;33m(\u001b[0m\u001b[0mdata_file\u001b[0m\u001b[1;33m)\u001b[0m\u001b[1;33m\u001b[0m\u001b[1;33m\u001b[0m\u001b[0m\n\u001b[0m\u001b[0;32m     60\u001b[0m \u001b[1;33m\u001b[0m\u001b[0m\n\u001b[0;32m     61\u001b[0m \u001b[1;33m\u001b[0m\u001b[0m\n",
      "\u001b[1;31mTypeError\u001b[0m: load() missing 1 required positional argument: 'Loader'"
     ]
    }
   ],
   "source": [
    "\n",
    "trainer = ChatterBotCorpusTrainer(chatbot)\n",
    "\n",
    "# Train the chatbot based on the english corpus\n",
    "trainer.train(\"covid\")"
   ]
  },
  {
   "cell_type": "code",
   "execution_count": 167,
   "metadata": {},
   "outputs": [
    {
     "ename": "TypeError",
     "evalue": "load() missing 1 required positional argument: 'Loader'",
     "output_type": "error",
     "traceback": [
      "\u001b[1;31m---------------------------------------------------------------------------\u001b[0m",
      "\u001b[1;31mTypeError\u001b[0m                                 Traceback (most recent call last)",
      "\u001b[1;32m~\\AppData\\Local\\Temp\\ipykernel_2732\\2402285820.py\u001b[0m in \u001b[0;36m<module>\u001b[1;34m\u001b[0m\n\u001b[1;32m----> 1\u001b[1;33m \u001b[0mtrainer\u001b[0m\u001b[1;33m.\u001b[0m\u001b[0mtrain\u001b[0m\u001b[1;33m(\u001b[0m\u001b[1;34m'C:\\\\Users\\\\sanje\\\\covid.yml'\u001b[0m\u001b[1;33m)\u001b[0m\u001b[1;33m\u001b[0m\u001b[1;33m\u001b[0m\u001b[0m\n\u001b[0m\u001b[0;32m      2\u001b[0m \u001b[0mquestion\u001b[0m \u001b[1;33m=\u001b[0m \u001b[1;34m\"fish\"\u001b[0m\u001b[1;33m\u001b[0m\u001b[1;33m\u001b[0m\u001b[0m\n\u001b[0;32m      3\u001b[0m \u001b[0mchatbot\u001b[0m\u001b[1;33m.\u001b[0m\u001b[0mget_response\u001b[0m\u001b[1;33m(\u001b[0m\u001b[0mquestion\u001b[0m\u001b[1;33m)\u001b[0m\u001b[1;33m\u001b[0m\u001b[1;33m\u001b[0m\u001b[0m\n",
      "\u001b[1;32m~\\anaconda3\\envs\\chatbot_37\\lib\\site-packages\\chatterbot\\trainers.py\u001b[0m in \u001b[0;36mtrain\u001b[1;34m(self, *corpus_paths)\u001b[0m\n\u001b[0;32m    133\u001b[0m             \u001b[0mdata_file_paths\u001b[0m\u001b[1;33m.\u001b[0m\u001b[0mextend\u001b[0m\u001b[1;33m(\u001b[0m\u001b[0mlist_corpus_files\u001b[0m\u001b[1;33m(\u001b[0m\u001b[0mcorpus_path\u001b[0m\u001b[1;33m)\u001b[0m\u001b[1;33m)\u001b[0m\u001b[1;33m\u001b[0m\u001b[1;33m\u001b[0m\u001b[0m\n\u001b[0;32m    134\u001b[0m \u001b[1;33m\u001b[0m\u001b[0m\n\u001b[1;32m--> 135\u001b[1;33m         \u001b[1;32mfor\u001b[0m \u001b[0mcorpus\u001b[0m\u001b[1;33m,\u001b[0m \u001b[0mcategories\u001b[0m\u001b[1;33m,\u001b[0m \u001b[0mfile_path\u001b[0m \u001b[1;32min\u001b[0m \u001b[0mload_corpus\u001b[0m\u001b[1;33m(\u001b[0m\u001b[1;33m*\u001b[0m\u001b[0mdata_file_paths\u001b[0m\u001b[1;33m)\u001b[0m\u001b[1;33m:\u001b[0m\u001b[1;33m\u001b[0m\u001b[1;33m\u001b[0m\u001b[0m\n\u001b[0m\u001b[0;32m    136\u001b[0m \u001b[1;33m\u001b[0m\u001b[0m\n\u001b[0;32m    137\u001b[0m             \u001b[0mstatements_to_create\u001b[0m \u001b[1;33m=\u001b[0m \u001b[1;33m[\u001b[0m\u001b[1;33m]\u001b[0m\u001b[1;33m\u001b[0m\u001b[1;33m\u001b[0m\u001b[0m\n",
      "\u001b[1;32m~\\anaconda3\\envs\\chatbot_37\\lib\\site-packages\\chatterbot\\corpus.py\u001b[0m in \u001b[0;36mload_corpus\u001b[1;34m(*data_file_paths)\u001b[0m\n\u001b[0;32m     82\u001b[0m     \u001b[1;32mfor\u001b[0m \u001b[0mfile_path\u001b[0m \u001b[1;32min\u001b[0m \u001b[0mdata_file_paths\u001b[0m\u001b[1;33m:\u001b[0m\u001b[1;33m\u001b[0m\u001b[1;33m\u001b[0m\u001b[0m\n\u001b[0;32m     83\u001b[0m         \u001b[0mcorpus\u001b[0m \u001b[1;33m=\u001b[0m \u001b[1;33m[\u001b[0m\u001b[1;33m]\u001b[0m\u001b[1;33m\u001b[0m\u001b[1;33m\u001b[0m\u001b[0m\n\u001b[1;32m---> 84\u001b[1;33m         \u001b[0mcorpus_data\u001b[0m \u001b[1;33m=\u001b[0m \u001b[0mread_corpus\u001b[0m\u001b[1;33m(\u001b[0m\u001b[0mfile_path\u001b[0m\u001b[1;33m)\u001b[0m\u001b[1;33m\u001b[0m\u001b[1;33m\u001b[0m\u001b[0m\n\u001b[0m\u001b[0;32m     85\u001b[0m \u001b[1;33m\u001b[0m\u001b[0m\n\u001b[0;32m     86\u001b[0m         \u001b[0mconversations\u001b[0m \u001b[1;33m=\u001b[0m \u001b[0mcorpus_data\u001b[0m\u001b[1;33m.\u001b[0m\u001b[0mget\u001b[0m\u001b[1;33m(\u001b[0m\u001b[1;34m'conversations'\u001b[0m\u001b[1;33m,\u001b[0m \u001b[1;33m[\u001b[0m\u001b[1;33m]\u001b[0m\u001b[1;33m)\u001b[0m\u001b[1;33m\u001b[0m\u001b[1;33m\u001b[0m\u001b[0m\n",
      "\u001b[1;32m~\\anaconda3\\envs\\chatbot_37\\lib\\site-packages\\chatterbot\\corpus.py\u001b[0m in \u001b[0;36mread_corpus\u001b[1;34m(file_name)\u001b[0m\n\u001b[0;32m     57\u001b[0m \u001b[1;33m\u001b[0m\u001b[0m\n\u001b[0;32m     58\u001b[0m     \u001b[1;32mwith\u001b[0m \u001b[0mio\u001b[0m\u001b[1;33m.\u001b[0m\u001b[0mopen\u001b[0m\u001b[1;33m(\u001b[0m\u001b[0mfile_name\u001b[0m\u001b[1;33m,\u001b[0m \u001b[0mencoding\u001b[0m\u001b[1;33m=\u001b[0m\u001b[1;34m'utf-8'\u001b[0m\u001b[1;33m)\u001b[0m \u001b[1;32mas\u001b[0m \u001b[0mdata_file\u001b[0m\u001b[1;33m:\u001b[0m\u001b[1;33m\u001b[0m\u001b[1;33m\u001b[0m\u001b[0m\n\u001b[1;32m---> 59\u001b[1;33m         \u001b[1;32mreturn\u001b[0m \u001b[0myaml\u001b[0m\u001b[1;33m.\u001b[0m\u001b[0mload\u001b[0m\u001b[1;33m(\u001b[0m\u001b[0mdata_file\u001b[0m\u001b[1;33m)\u001b[0m\u001b[1;33m\u001b[0m\u001b[1;33m\u001b[0m\u001b[0m\n\u001b[0m\u001b[0;32m     60\u001b[0m \u001b[1;33m\u001b[0m\u001b[0m\n\u001b[0;32m     61\u001b[0m \u001b[1;33m\u001b[0m\u001b[0m\n",
      "\u001b[1;31mTypeError\u001b[0m: load() missing 1 required positional argument: 'Loader'"
     ]
    }
   ],
   "source": [
    "trainer.train('C:\\\\Users\\\\sanje\\\\covid.yml')\n",
    "question = \"fish\"\n",
    "chatbot.get_response(question)"
   ]
  },
  {
   "cell_type": "code",
   "execution_count": null,
   "metadata": {},
   "outputs": [],
   "source": []
  },
  {
   "cell_type": "code",
   "execution_count": null,
   "metadata": {},
   "outputs": [],
   "source": []
  }
 ],
 "metadata": {
  "kernelspec": {
   "display_name": "Python 3 (ipykernel)",
   "language": "python",
   "name": "python3"
  },
  "language_info": {
   "codemirror_mode": {
    "name": "ipython",
    "version": 3
   },
   "file_extension": ".py",
   "mimetype": "text/x-python",
   "name": "python",
   "nbconvert_exporter": "python",
   "pygments_lexer": "ipython3",
   "version": "3.7.16"
  }
 },
 "nbformat": 4,
 "nbformat_minor": 4
}
